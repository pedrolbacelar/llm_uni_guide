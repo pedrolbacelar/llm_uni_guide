{
 "cells": [
  {
   "cell_type": "code",
   "execution_count": 13,
   "metadata": {},
   "outputs": [
    {
     "name": "stdout",
     "output_type": "stream",
     "text": [
      " --- Question database already exists ---\n",
      "Existing questions:\n",
      "-- (1, 'What are your preferred subjects or fields of study?')\n",
      "-- (2, \"Are there any specific industries or roles you're targeting?\")\n",
      "-- (3, 'Are you open to studying abroad, or do you prefer to stay in your home country?')\n",
      "-- (4, 'Are you looking for large universities with a wide range of programs or smaller, more specialized institutions?')\n",
      "-- (5, 'Are you involved in any extracurricular activities or hobbies?')\n",
      "-- (6, 'What are your financial constraints or considerations when choosing a university?')\n",
      "-- (7, 'Do you prefer a more structured learning environment or a more flexible one?')\n",
      "-- (8, 'What languages are you proficient in?')\n"
     ]
    },
    {
     "data": {
      "text/plain": [
       "\"Are there any specific industries or roles you're targeting?\""
      ]
     },
     "execution_count": 13,
     "metadata": {},
     "output_type": "execute_result"
    }
   ],
   "source": [
    "import importlib\n",
    "import components\n",
    "from components import Chat\n",
    "\n",
    "importlib.reload(components)\n",
    "\n",
    "chat_test = Chat(1)\n",
    "chat_test.initiate()\n",
    "\n",
    "chat_test.get_question(2)"
   ]
  },
  {
   "cell_type": "code",
   "execution_count": 17,
   "metadata": {},
   "outputs": [
    {
     "name": "stdout",
     "output_type": "stream",
     "text": [
      "Creating a university database...\n",
      "Path: databases\\nlp\\universities_db.db\n",
      "-- University mit added to the database.\n",
      "-- University polimi added to the database.\n",
      "-- University polito added to the database.\n",
      "-- University usp added to the database.\n"
     ]
    }
   ],
   "source": [
    "import components\n",
    "importlib.reload(components)\n",
    "\n",
    "myuni = components.University(\"myuni\")\n",
    "myuni.initiate()\n",
    "\n",
    "myuni.update()"
   ]
  },
  {
   "cell_type": "code",
   "execution_count": null,
   "metadata": {},
   "outputs": [],
   "source": [
    "import matcher\n",
    "import importlib\n",
    "importlib.reload(matcher)\n",
    "\n",
    "matcher = matcher.Matcher(student_name= \"Pedro\")\n",
    "matcher.match()"
   ]
  },
  {
   "cell_type": "code",
   "execution_count": 10,
   "metadata": {},
   "outputs": [
    {
     "name": "stdout",
     "output_type": "stream",
     "text": [
      "Creating a university database...\n",
      "Path: databases\\nlp\\universities_db.db\n",
      "-- University 'Harvard' added to the database.\n",
      "-- University 'London School of Economics and Political Science (LSE)' added to the database.\n",
      "-- University 'Massachusetts Institute of Technology (MIT)' added to the database.\n",
      "-- University 'Politecnico di Milano' added to the database.\n",
      "-- University 'Politecnico di Torino' added to the database.\n",
      "-- University 'Royal College of Art (RCA)' added to the database.\n",
      "-- University 'Universidade de São Paulo (USP)' added to the database.\n",
      "-- Student 'Ana' added to the database.\n",
      "-- Student 'Emma' added to the database.\n",
      "-- Student 'Lorenzo' added to the database.\n",
      "-- Student 'Marcos' added to the database.\n",
      "-- Student 'Pedro' added to the database.\n"
     ]
    }
   ],
   "source": [
    "import components\n",
    "import importlib\n",
    "importlib.reload(components)\n",
    "\n",
    "#---- Check to re-train databases ----\n",
    "university_check = components.University()\n",
    "translator = components.Translator()\n",
    "\n",
    "#--- Check Uni\n",
    "university_check.update()\n",
    "\n",
    "#--- Check Students\n",
    "translator.translate_student_raw_data()"
   ]
  },
  {
   "cell_type": "code",
   "execution_count": 14,
   "metadata": {},
   "outputs": [
    {
     "name": "stdout",
     "output_type": "stream",
     "text": [
      " --- Student database already exists ---\n",
      "-------------------- SHOWING SIMILARITIES --------------------\n",
      "| UNIVERSITY   |   SIMILARITY |\n",
      "|-- Harvard: 59.7861%\n",
      "|-- London School of Economics and Political Science (LSE): 41.1922%\n",
      "|-- Massachusetts Institute of Technology (MIT): 35.1274%\n",
      "|-- Politecnico di Milano: 36.0751%\n",
      "|-- Politecnico di Torino: 41.2765%\n",
      "|-- Royal College of Art (RCA): 34.0488%\n",
      "|-- Universidade de São Paulo (USP): 39.7468%\n"
     ]
    }
   ],
   "source": [
    "import components\n",
    "import matcher\n",
    "import importlib\n",
    "importlib.reload(components)\n",
    "importlib.reload(matcher)\n",
    "\n",
    "\n",
    "matcher = matcher.Matcher(student_name= \"Ana\")\n",
    "matcher.match()\n",
    "matcher.show_similarities()"
   ]
  }
 ],
 "metadata": {
  "kernelspec": {
   "display_name": "llm_uni_guide-2UVrmt7U",
   "language": "python",
   "name": "python3"
  },
  "language_info": {
   "codemirror_mode": {
    "name": "ipython",
    "version": 3
   },
   "file_extension": ".py",
   "mimetype": "text/x-python",
   "name": "python",
   "nbconvert_exporter": "python",
   "pygments_lexer": "ipython3",
   "version": "3.11.2"
  }
 },
 "nbformat": 4,
 "nbformat_minor": 2
}
